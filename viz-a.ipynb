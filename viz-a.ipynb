{
 "metadata": {
  "language_info": {
   "codemirror_mode": {
    "name": "ipython",
    "version": 3
   },
   "file_extension": ".py",
   "mimetype": "text/x-python",
   "name": "python",
   "nbconvert_exporter": "python",
   "pygments_lexer": "ipython3",
   "version": "3.9.0-final"
  },
  "orig_nbformat": 2,
  "kernelspec": {
   "name": "python3",
   "display_name": "Python 3",
   "language": "python"
  }
 },
 "nbformat": 4,
 "nbformat_minor": 2,
 "cells": [
  {
   "cell_type": "code",
   "execution_count": 1,
   "metadata": {},
   "outputs": [],
   "source": [
    "import pandas as pd\n",
    "import matplotlib.pyplot as plt"
   ]
  },
  {
   "source": [
    "+ #### Feature Tasks and Requirements\n",
    "+ Select 2 Kaggle data sets that are suitable for the story you want to tell.\n",
    "+ Note make sure the data set has csv file/s to download.\n",
    "+ Optionally use dataset built into Seaborn\n",
    "+ Load the data you receive into a Pandas DataFrame\n",
    "+ Analyze dataset\n",
    "+ Verbalize your insights in notebook in Markdown cells\n",
    "+ Summarize your insights at bottom of notebook\n",
    "+ Notebook should have professional polish\n",
    "+ In other words, imagine you are presenting it on the job."
   ],
   "cell_type": "markdown",
   "metadata": {}
  },
  {
   "cell_type": "code",
   "execution_count": null,
   "metadata": {},
   "outputs": [],
   "source": []
  }
 ]
}